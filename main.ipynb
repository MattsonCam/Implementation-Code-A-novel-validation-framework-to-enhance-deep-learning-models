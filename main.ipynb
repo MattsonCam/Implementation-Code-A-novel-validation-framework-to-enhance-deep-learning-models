{
  "cells": [
    {
      "cell_type": "code",
      "execution_count": null,
      "metadata": {
        "id": "kRoNlrrkl4ko",
        "colab": {
          "base_uri": "https://localhost:8080/"
        },
        "outputId": "e859e9ae-3164-4e8b-b753-bd14b7b2ed2f"
      },
      "outputs": [
        {
          "output_type": "stream",
          "name": "stderr",
          "text": [
            "/usr/local/lib/python3.7/dist-packages/statsmodels/tools/_testing.py:19: FutureWarning: pandas.util.testing is deprecated. Use the functions in the public API at pandas.testing instead.\n",
            "  import pandas.util.testing as tm\n"
          ]
        }
      ],
      "source": [
        "import numpy as np\n",
        "from keras.models import Sequential, Model\n",
        "from keras.layers import LSTM, Dense, BatchNormalization, Reshape, Conv1D, Conv2D, \\\n",
        "MaxPooling2D, AveragePooling1D, Concatenate, Dropout, Input, Flatten\n",
        "import tensorflow as tf\n",
        "import pandas as pd\n",
        "import subprocess\n",
        "import matplotlib.pyplot as plt\n",
        "import os\n",
        "os.chdir('/content/Implementation-Code-A-novel-validation-framework-to-enhance-deep-learning-models-main')\n",
        "from utils.Evaluation import RegressionEvaluation, smape\n",
        "from utils.fileHandling import getData\n",
        "from utils.fileHandling import splitData\n",
        "from utils.BLAS import create_dataset\n",
        "from tensorflow.keras.callbacks import EarlyStopping\n",
        "from tensorflow.keras.callbacks import ModelCheckpoint\n",
        "from tensorflow.keras.callbacks import ReduceLROnPlateau\n",
        "from sklearn.preprocessing import StandardScaler\n",
        "import gc\n",
        "#path_parent = os.path.dirname(os.getcwd())\n",
        "#os.chdir(path_parent)\n",
        "#os.chdir(path_parent)\n",
        "#os.chdir('Data')"
      ]
    },
    {
      "cell_type": "code",
      "execution_count": null,
      "metadata": {
        "id": "lzuRETpTl4ko"
      },
      "outputs": [],
      "source": [
        "def process_data(name, strat = 'Differenced', lg = 7):\n",
        "    SeriesName     = name\n",
        "    Strategy       = strat # Differenced, Returns\n",
        "    Lag = lg\n",
        "    Dates      = ['2020-03-01',     '2020-05-31'] # These are the dates of the validation set\n",
        "    Series, Transformed_Series = getData('Data/' + SeriesName + '.csv', Strategy) # Transforms the series based on the difference between values\n",
        "    # The transformed series starts from January 2nd 2017, and the orther series starts at January 1st\n",
        "    # Transforms the Series using np.log\n",
        "    \n",
        "    # These split the data according to the datetime. The training set  is any data before the start date of the validation data\n",
        "    # The validation data is anything between the dates above, and the test data is any date after the training data.\n",
        "    Training,      Validation,      Testing      = splitData(Series,             Dates)\n",
        "    Training_diff, Validation_diff, Testing_diff = splitData(Transformed_Series, Dates)\n",
        "\n",
        "    # Takes the last lag (eg. 7) days of the training data and concatenates it with the validation set to create the validation set.\n",
        "    # -Traditional Series\n",
        "    Validation      = pd.concat([Training.iloc[-Lag:],   Validation])\n",
        "    Testing         = pd.concat([Validation.iloc[-Lag:], Testing])\n",
        "    # Takes the last lag (eg. 7) days of the validation data and concatenates it with the testing set to create the testing set.\n",
        "    # -Differenced Series\n",
        "    Validation_diff = pd.concat([Training_diff.iloc[-Lag:],   Validation_diff])\n",
        "    Testing_diff    = pd.concat([Validation_diff.iloc[-Lag:], Testing_diff])\n",
        "    \n",
        "    # Uses a sliding window of size lage (eg. 7) to create the X data. Then takes the lag+1 (eg. 8) data point to create the Y value\n",
        "    if (strat == 'Differenced'):\n",
        "      trainX, trainY = create_dataset(Training_diff,   Lag, SeriesName)\n",
        "      validX, validY = create_dataset(Validation_diff, Lag, SeriesName)\n",
        "      testX,  testY  = create_dataset(Testing_diff,    Lag, SeriesName)\n",
        "      #validY = Validation[SeriesName][Lag-1:-1 ].to_numpy() + validY # Not needed\n",
        "      #trainY = Validation[SeriesName][Lag-1:-1 ].to_numpy() + validY # Not needed\n",
        "\n",
        "    else:\n",
        "      trainX, trainY = create_dataset(Training,   Lag, SeriesName)\n",
        "      validX, validY = create_dataset(Validation, Lag, SeriesName)\n",
        "      testX,  testY  = create_dataset(Testing,    Lag, SeriesName)\n",
        "\n",
        "    # Changed the validX and the testX to transform, because we won't have enought info to fit in real life.\n",
        "    scaler = StandardScaler()\n",
        "    trainX = np.expand_dims( scaler.fit_transform(trainX[:,:,0]), axis=-1)\n",
        "    validX = np.expand_dims( scaler.transform(validX[:,:,0]), axis=-1)\n",
        "    testX  = np.expand_dims( scaler.transform(testX[:,:,0]),  axis=-1)\n",
        "    \n",
        "    test_data = Testing\n",
        "    \n",
        "    return trainX,trainY, validX,validY, testX,testY, test_data"
      ]
    },
    {
      "cell_type": "code",
      "execution_count": null,
      "metadata": {
        "colab": {
          "base_uri": "https://localhost:8080/"
        },
        "id": "xONqUM9Wl4ko",
        "outputId": "b7a8d3b6-b8ff-45b6-f3d4-52fcc74019c3"
      },
      "outputs": [
        {
          "output_type": "stream",
          "name": "stdout",
          "text": [
            "[INFO] Strategy: Differenced was selected\n",
            "[INFO] Strategy: Differenced was selected\n",
            "[INFO] Strategy: Differenced was selected\n"
          ]
        }
      ],
      "source": [
        "np.random.seed(24)\n",
        "tf.random.set_seed(24)\n",
        "\n",
        "SeriesName     = 'BTC'\n",
        "Strategy       = 'Differenced' # Differenced, Returns\n",
        "Lag = 7\n",
        "\n",
        "trainX_eth,trainY_eth, validX_eth,validY_eth, testX_eth,testY_eth, Testing_eth = process_data('ETH', Strategy, Lag)\n",
        "trainX_btc,trainY_btc, validX_btc,validY_btc, testX_btc,testY_btc, Testing_btc = process_data('BTC', Strategy, Lag)\n",
        "trainX_xrp,trainY_xrp, validX_xrp,validY_xrp, testX_xrp,testY_xrp, Testing_xrp = process_data('XRP', Strategy, Lag)\n",
        "\n",
        "if (SeriesName == 'ETH'):\n",
        "    trainX,trainY, validX,validY, testX,testY, Testing = trainX_eth,trainY_eth, validX_eth,validY_eth, testX_eth,testY_eth, Testing_eth\n",
        "\n",
        "elif (SeriesName == 'BTC'):\n",
        "    trainX,trainY, validX,validY, testX,testY, Testing = trainX_btc,trainY_btc, validX_btc,validY_btc, testX_btc,testY_btc, Testing_btc\n",
        "\n",
        "else:\n",
        "    trainX,trainY, validX,validY, testX,testY, Testing = trainX_xrp,trainY_xrp, validX_xrp,validY_xrp, testX_xrp,testY_xrp, Testing_xrp"
      ]
    },
    {
      "cell_type": "code",
      "execution_count": null,
      "metadata": {
        "id": "x7iXpucMl4ko"
      },
      "outputs": [],
      "source": [
        "def basecomp(printsummary):\n",
        "    \n",
        "    def cryptcomp(modinput, layer_act = 'relu'):\n",
        "\n",
        "        conv = Conv1D(16,2, activation=layer_act)(modinput) #should we add padding?\n",
        "        pool = AveragePooling1D(2)(conv)\n",
        "        #flat = Flatten()(pool)\n",
        "        #re2 = Reshape((flat.shape[1],1))(flat)\n",
        "        lstm = LSTM(50)(pool)\n",
        "        return lstm\n",
        "    \n",
        "    inshape1 = trainX.shape[1]\n",
        "    inshape2 = trainX.shape[2]\n",
        "    input1 = Input(shape=(inshape1, inshape2))\n",
        "    input2 = Input(shape=(inshape1, inshape2))\n",
        "    input3 = Input(shape=(inshape1, inshape2))\n",
        "    out1 = cryptcomp(input1)\n",
        "    out2 = cryptcomp(input2)\n",
        "    out3 = cryptcomp(input3)\n",
        "\n",
        "    concat = Concatenate()([out1,out2,out3])\n",
        "    dense1 = Dense(256, activation = 'relu')(concat)\n",
        "    batchnorm1 = BatchNormalization()(dense1)\n",
        "    drop1 = Dropout(3/10)(batchnorm1)\n",
        "    dense2 = Dense(64, activation = 'relu')(drop1)\n",
        "    batchnorm2 = BatchNormalization()(dense2)\n",
        "    drop2 = Dropout(2/10)(batchnorm2)\n",
        "    final = Dense(1)(drop2)\n",
        "\n",
        "    model = Model(inputs = [input1, input2, input3], outputs = final)\n",
        "    \n",
        "    if printsummary:\n",
        "        model.summary()\n",
        "        \n",
        "    return model"
      ]
    },
    {
      "cell_type": "code",
      "execution_count": null,
      "metadata": {
        "id": "r01cTyyql4ko"
      },
      "outputs": [],
      "source": [
        "def novelcomp(printsummary = False, k1 = 1, k2 = 2, k3 = 3, conv1dmaps = 16, \n",
        "             lay_padding = 'SAME', layer_act = 'relu'):\n",
        "    \n",
        "    def cryptcomp(modinput, in_shape):\n",
        "        conv1 = Conv1D(conv1dmaps,k1,padding = lay_padding, activation=layer_act)(modinput)\n",
        "        conv2 = Conv1D(conv1dmaps,k2,padding = lay_padding, activation=layer_act)(modinput)\n",
        "        conv3 = Conv1D(conv1dmaps,k3,padding = lay_padding, activation=layer_act)(modinput)\n",
        "        dep = Concatenate()([conv1, conv2, conv3, modinput]) # Might just flatten this layer and feed it to\n",
        "        #print(dep.shape) # (7, 49)\n",
        "        pool = AveragePooling1D(2)(dep) # (3, 49)\n",
        "        #print(pool.shape)\n",
        "        #flat = Flatten()(pool)\n",
        "        #re2 = Reshape((flat.shape[1],1))(flat)\n",
        "        lstm = LSTM(50)(pool)\n",
        "        return lstm\n",
        "    \n",
        "    inshape1 = trainX.shape[1]\n",
        "    inshape2 = trainX.shape[2]\n",
        "    input1 = Input(shape=(inshape1, inshape2))\n",
        "    input2 = Input(shape=(inshape1, inshape2))\n",
        "    input3 = Input(shape=(inshape1, inshape2))\n",
        "    out1 = cryptcomp(input1, inshape1)\n",
        "    out2 = cryptcomp(input2, inshape1)\n",
        "    out3 = cryptcomp(input3, inshape1)\n",
        "    \n",
        "    concat = Concatenate()([out1,out2,out3])\n",
        "    dense1 = Dense(256, activation = 'relu')(concat)\n",
        "    batchnorm1 = BatchNormalization()(dense1)\n",
        "    drop1 = Dropout(3/10)(batchnorm1)\n",
        "    dense2 = Dense(64, activation = 'relu')(drop1)\n",
        "    batchnorm2 = BatchNormalization()(dense2)\n",
        "    drop2 = Dropout(2/10)(batchnorm2)\n",
        "    final = Dense(1)(drop2)\n",
        "    model = Model(inputs = [input1, input2, input3], outputs = final)\n",
        "    \n",
        "    return model\n",
        "    \n",
        "    \n",
        "    '''\n",
        "    conv1 = Conv1D(conv1dmaps,k1,padding = lay_padding, activation=layer_act)(modinput)\n",
        "    conv2 = Conv1D(conv1dmaps,k2,padding = lay_padding, activation=layer_act)(modinput)\n",
        "    conv3 = Conv1D(conv1dmaps,k3,padding = lay_padding, activation=layer_act)(modinput)\n",
        "    dep = Concatenate()([conv1, conv2, conv3, modinput]) # Might just flatten this layer and feed it to\n",
        "    # the lstm\n",
        "    re1 = Reshape((in_shape, (conv1dmaps * 3) + 1, 1))(dep)\n",
        "    conv2d = Conv2D(1, (1,1), padding = lay_padding, activation=layer_act)(re1)\n",
        "    flat = Flatten()(conv2d)\n",
        "    re2 = Reshape((flat.shape[1],1))(flat)\n",
        "    # Did not add a dense layer here (might add it, but IDK if it is necessary)\n",
        "    lstm = LSTM(50)(re2)\n",
        "    #flat = Flatten()(conv2d)\n",
        "    #lstm = LSTM(50)(conv2d)\n",
        "    '''"
      ]
    },
    {
      "cell_type": "code",
      "execution_count": null,
      "metadata": {
        "id": "63DL7s9Sl4ko"
      },
      "outputs": [],
      "source": [
        "#%%\n",
        "# Checkpoint\n",
        "'''\n",
        "checkpoint = ModelCheckpoint(\"model/model.hdf5\", \n",
        "                              monitor        = 'val_loss', \n",
        "                              verbose        = 0, \n",
        "                              save_best_only = True, \n",
        "                              mode           = 'min')\n",
        "'''\n",
        "\n",
        "# Earlystopping\n",
        "earlystopping = EarlyStopping(monitor       = 'val_loss', \n",
        "                              mode          = 'min', \n",
        "                              verbose       = 1, \n",
        "                              patience      = 10)\n",
        "\n",
        "# Learning rate adjustment\n",
        "# lrs_scheduler = step_decay_schedule(initial_lr=1e-4, decay_factor=0.75, step_size=2)\n",
        "lrs_scheduler  = ReduceLROnPlateau(monitor     = 'val_loss', \n",
        "                                   factor      = 0.75,\n",
        "                                   patience    = 5)"
      ]
    },
    {
      "cell_type": "code",
      "execution_count": null,
      "metadata": {
        "id": "zN6AvhYUl4ko"
      },
      "outputs": [],
      "source": [
        "def getpred(finmodel):\n",
        "    y_pred = finmodel.predict([testX_btc, testX_eth, testX_xrp])[:,0]\n",
        "\n",
        "    # Set DataFrame with 'Real' and 'Predicted' values\n",
        "    Prices = pd.DataFrame([], columns=[SeriesName, 'Predict'])\n",
        "    # Get real values\n",
        "\n",
        "    # Reverse transformation\n",
        "    if (Strategy == 'Differenced'):\n",
        "        Prices[ SeriesName ]    = Testing[SeriesName][Lag:]\n",
        "        #Prices['Predict'] = Testing[SeriesName][Lag:].to_numpy() + y_pred\n",
        "        Prices['Predict'] = Testing[SeriesName][Lag-1:-1 ].to_numpy() + y_pred\n",
        "    else:\n",
        "        Prices[ SeriesName ] = np.exp( Testing[SeriesName][Lag:] )\n",
        "        Prices['Predict']    = np.exp( y_pred )\n",
        "    \n",
        "    return Prices\n",
        "\n",
        "def getmetrics(modname, Prices):\n",
        "    MAE, RMSE, MAPE, SMAPE, R2 = RegressionEvaluation( Prices )\n",
        "#\n",
        "    print(modname + ':')\n",
        "    print('MAE   = %.3f' % MAE)\n",
        "    print('RMSE  = %.3f' % RMSE)\n",
        "    print('MAPE  = %.3f' % MAPE)\n",
        "    print('SMAPE = %.3f' % SMAPE)\n",
        "    print('R2    = %.3f' % R2)\n",
        "    print('\\n')\n",
        "    return MAE, RMSE, R2"
      ]
    },
    {
      "cell_type": "code",
      "execution_count": null,
      "metadata": {
        "colab": {
          "base_uri": "https://localhost:8080/",
          "height": 1000
        },
        "id": "CKV-h5_Ul4ko",
        "outputId": "845de12a-6e4b-4f04-f872-456dde47884e"
      },
      "outputs": [
        {
          "output_type": "stream",
          "name": "stdout",
          "text": [
            "Epoch 19: early stopping\n",
            "Baseline:\n",
            "MAE   = 169.940\n",
            "RMSE  = 256.059\n",
            "MAPE  = 1.575\n",
            "SMAPE = 1.574\n",
            "R2    = 0.953\n",
            "\n",
            "\n"
          ]
        },
        {
          "output_type": "display_data",
          "data": {
            "text/plain": [
              "<Figure size 432x288 with 1 Axes>"
            ],
            "image/png": "[encoded data removed]"
          },
          "metadata": {
            "needs_background": "light"
          }
        },
        {
          "output_type": "stream",
          "name": "stdout",
          "text": [
            "Epoch 17: early stopping\n",
            "Novel1:\n",
            "MAE   = 169.580\n",
            "RMSE  = 256.058\n",
            "MAPE  = 1.571\n",
            "SMAPE = 1.570\n",
            "R2    = 0.953\n",
            "\n",
            "\n"
          ]
        },
        {
          "output_type": "display_data",
          "data": {
            "text/plain": [
              "<Figure size 432x288 with 1 Axes>"
            ],
            "image/png": "[encoded data removed]"
          },
          "metadata": {
            "needs_background": "light"
          }
        },
        {
          "output_type": "stream",
          "name": "stdout",
          "text": [
            "Epoch 40: early stopping\n",
            "Novel2:\n",
            "MAE   = 176.818\n",
            "RMSE  = 259.838\n",
            "MAPE  = 1.634\n",
            "SMAPE = 1.638\n",
            "R2    = 0.951\n",
            "\n",
            "\n"
          ]
        },
        {
          "output_type": "display_data",
          "data": {
            "text/plain": [
              "<Figure size 432x288 with 1 Axes>"
            ],
            "image/png": "[encoded data removed]"
          },
          "metadata": {
            "needs_background": "light"
          }
        },
        {
          "output_type": "stream",
          "name": "stdout",
          "text": [
            "Epoch 15: early stopping\n",
            "Novel3:\n",
            "MAE   = 170.240\n",
            "RMSE  = 256.155\n",
            "MAPE  = 1.577\n",
            "SMAPE = 1.576\n",
            "R2    = 0.953\n",
            "\n",
            "\n"
          ]
        },
        {
          "output_type": "display_data",
          "data": {
            "text/plain": [
              "<Figure size 432x288 with 1 Axes>"
            ],
            "image/png": "[encoded data removed]"
          },
          "metadata": {
            "needs_background": "light"
          }
        }
      ],
      "source": [
        "def plotloss(title, modelname, val_loss, train_loss):\n",
        "    xdata = np.arange(len(train_loss)) + 1\n",
        "    plt.figure()\n",
        "    plt.plot(xdata,val_loss, label = 'Validation')\n",
        "    plt.plot(xdata,train_loss, label = 'Training')\n",
        "    plt.title(title)\n",
        "    plt.ylabel('MSE Loss')\n",
        "    plt.xlabel('Epoch')\n",
        "    plt.legend()\n",
        "    plt.savefig(f'./{modelname}')\n",
        "    plt.show()\n",
        "modeldf = pd.DataFrame([], columns=['Model', 'MAE', 'RMSE', 'R2'])\n",
        "choices = ['Baseline', 'Novel1', 'Novel2', 'Novel3']\n",
        "for modelchoice in choices:\n",
        "    checkpoint = ModelCheckpoint(modelchoice, \n",
        "                              monitor        = 'val_loss', \n",
        "                              verbose        = 0, \n",
        "                              save_best_only = True, \n",
        "                              mode           = 'min',\n",
        "                              save_weights_only=True)\n",
        "\n",
        "    if (modelchoice == 'Baseline'):\n",
        "        model = basecomp(False)\n",
        " \n",
        "    elif (modelchoice == 'Novel1'):\n",
        "        model = novelcomp(printsummary = False, k1 = 1, k2 = 2, k3 = 3, conv1dmaps = 16, \n",
        "                 lay_padding = 'SAME', layer_act = 'relu')\n",
        "\n",
        "    elif (modelchoice == 'Novel2'):\n",
        "        model = novelcomp(printsummary = False, k1 = 2, k2 = 3, k3 = 4, conv1dmaps = 16, \n",
        "                 lay_padding = 'SAME', layer_act = 'relu')\n",
        "\n",
        "    elif (modelchoice == 'Novel3'):\n",
        "        model = novelcomp(printsummary = False, k1 = 1, k2 = 2, k3 = 3, conv1dmaps = 32, \n",
        "                 lay_padding = 'SAME', layer_act = 'relu')\n",
        "\n",
        "    epochs         =  200\n",
        "    batch_size     =  8\n",
        "    model.compile(loss='mean_squared_error', optimizer=tf.keras.optimizers.RMSprop())\n",
        "\n",
        "    score = model.fit(x = [trainX_btc, trainX_eth, trainX_xrp], \n",
        "                      y = trainY,\n",
        "                      epochs          = epochs, \n",
        "                      batch_size      = batch_size, \n",
        "                      callbacks       = [checkpoint, earlystopping, lrs_scheduler],\n",
        "                      verbose         = 0, \n",
        "                      validation_data = ([validX_btc, validX_eth, validX_xrp], validY))\n",
        "\n",
        "    model.load_weights(modelchoice)\n",
        "    Prices = getpred(model)\n",
        "    MAE, RMSE, R2 = getmetrics(modelchoice, Prices)\n",
        "    val_loss = score.history['val_loss']\n",
        "    train_loss = score.history['loss']\n",
        "    \n",
        "    plotloss(f'{modelchoice} Model {SeriesName} Loss vs. Epoch', modelchoice, val_loss, train_loss)\n",
        "    modeldf.loc[len(modeldf.index)] = [modelchoice,MAE,RMSE,R2]\n",
        "    del model\n",
        "    del Prices\n",
        "    gc.collect()\n",
        "modeldf.head(6)\n",
        "modeldf.to_csv(f'{SeriesName.lower()}_trans.csv')"
      ]
    },
    {
      "cell_type": "code",
      "source": [
        "modeldf.to_csv(f'{SeriesName.lower()}_trans.csv')"
      ],
      "metadata": {
        "id": "tg2wVYV7tgz0"
      },
      "execution_count": null,
      "outputs": []
    },
    {
      "cell_type": "code",
      "execution_count": null,
      "metadata": {
        "colab": {
          "base_uri": "https://localhost:8080/",
          "height": 106
        },
        "id": "63yo_fJql4ko",
        "outputId": "d756f214-bb3e-4943-e412-32f307794bf2"
      },
      "outputs": [
        {
          "output_type": "execute_result",
          "data": {
            "text/plain": [
              "'\\nfrom sklearn import metrics\\nimport math\\n\\ny_pred = model.predict([testX_btc, testX_eth, testX_xrp])\\ny_pred = np.squeeze(y_pred)\\n\\ndef smape(A, F):\\n    return ( 100/len(A) * np.sum(2 * np.abs(F - A) / (np.abs(A) + np.abs(F)) ) )\\n\\ndef Regeval2( Y, Pred ):\\n    MAE   = metrics.mean_absolute_error(Y, Pred)\\n    RMSE  = math.sqrt(metrics.mean_squared_error(Y, Pred))\\n    MAPE  = np.mean(np.abs((Y - Pred) / Y)) * 100.0\\n    SMAPE = smape(Y, Pred)\\n    R2    = metrics.r2_score(Y, Pred)\\n    return (MAE, RMSE) #SMAPE, R2)\\n'"
            ],
            "application/vnd.google.colaboratory.intrinsic+json": {
              "type": "string"
            }
          },
          "metadata": {},
          "execution_count": 10
        }
      ],
      "source": [
        "'''\n",
        "from sklearn import metrics\n",
        "import math\n",
        "\n",
        "y_pred = model.predict([testX_btc, testX_eth, testX_xrp])\n",
        "y_pred = np.squeeze(y_pred)\n",
        "\n",
        "def smape(A, F):\n",
        "    return ( 100/len(A) * np.sum(2 * np.abs(F - A) / (np.abs(A) + np.abs(F)) ) )\n",
        "\n",
        "def Regeval2( Y, Pred ):\n",
        "    MAE   = metrics.mean_absolute_error(Y, Pred)\n",
        "    RMSE  = math.sqrt(metrics.mean_squared_error(Y, Pred))\n",
        "    MAPE  = np.mean(np.abs((Y - Pred) / Y)) * 100.0\n",
        "    SMAPE = smape(Y, Pred)\n",
        "    R2    = metrics.r2_score(Y, Pred)\n",
        "    return (MAE, RMSE) #SMAPE, R2)\n",
        "'''"
      ]
    },
    {
      "cell_type": "code",
      "execution_count": null,
      "metadata": {
        "colab": {
          "base_uri": "https://localhost:8080/",
          "height": 123
        },
        "id": "f58NzE4Dl4ko",
        "outputId": "50af2e76-ee2d-46c3-ba7b-ff2dd68044e0"
      },
      "outputs": [
        {
          "output_type": "execute_result",
          "data": {
            "text/plain": [
              "\"\\ny_pred = model.predict([testX_btc, testX_eth, testX_xrp])[:,0]\\n\\n# Set DataFrame with 'Real' and 'Predicted' values\\nPrices = pd.DataFrame([], columns=[SeriesName, 'Predict'])\\n# Get real values\\n\\n# Reverse transformation\\nif (Strategy == 'Differenced'):\\n    Prices[ SeriesName ]    = Testing[SeriesName][Lag:]\\n    Prices['Predict'] = Testing[SeriesName][Lag-1:-1 ].to_numpy() + y_pred\\nelse:\\n    Prices[ SeriesName ] = np.exp( Testing[SeriesName][Lag:] )\\n    Prices['Predict']    = np.exp( Testing[SeriesName][Lag-1:-1].to_numpy() + y_pred )\\n    \\nax = Prices.plot( figsize=(15,4), linewidth=2, marker='*')\\nax.set_ylabel('Price')\\nplt.show()\\n\""
            ],
            "application/vnd.google.colaboratory.intrinsic+json": {
              "type": "string"
            }
          },
          "metadata": {},
          "execution_count": 11
        }
      ],
      "source": [
        "'''\n",
        "y_pred = model.predict([testX_btc, testX_eth, testX_xrp])[:,0]\n",
        "\n",
        "# Set DataFrame with 'Real' and 'Predicted' values\n",
        "Prices = pd.DataFrame([], columns=[SeriesName, 'Predict'])\n",
        "# Get real values\n",
        "\n",
        "# Reverse transformation\n",
        "if (Strategy == 'Differenced'):\n",
        "    Prices[ SeriesName ]    = Testing[SeriesName][Lag:]\n",
        "    Prices['Predict'] = Testing[SeriesName][Lag-1:-1 ].to_numpy() + y_pred\n",
        "else:\n",
        "    Prices[ SeriesName ] = np.exp( Testing[SeriesName][Lag:] )\n",
        "    Prices['Predict']    = np.exp( Testing[SeriesName][Lag-1:-1].to_numpy() + y_pred )\n",
        "    \n",
        "ax = Prices.plot( figsize=(15,4), linewidth=2, marker='*')\n",
        "ax.set_ylabel('Price')\n",
        "plt.show()\n",
        "'''"
      ]
    },
    {
      "cell_type": "code",
      "execution_count": null,
      "metadata": {
        "colab": {
          "base_uri": "https://localhost:8080/",
          "height": 106
        },
        "id": "gwVXz1oHl4ko",
        "outputId": "fb38317f-fffb-41d8-a90a-4665e961305d"
      },
      "outputs": [
        {
          "output_type": "execute_result",
          "data": {
            "text/plain": [
              "\"\\n# Classification performance\\n#\\nCM, Accuracy, AUC, F1, GM, Sen, Spe, PPV, NPV = ClassificationEvaluation( Prices )\\n#\\nprint('Accuracy  = %.2f%%' % (100*Accuracy))\\nprint('AUC       = %.3f' % AUC)\\nprint('F1        = %.3f' % F1)\\nprint('GM        = %.3f' % GM)\\nprint('Sen       = %.3f' % Sen)\\nprint('Spe       = %.3f' % Spe)\\nprint('Spe x Sen = %.3f' % (Sen*Spe))\\nprint('\\n')\\n\\n\\n# Confusion matrix\\n#\\nConfusionMatrixVisualize(CM)\\n\""
            ],
            "application/vnd.google.colaboratory.intrinsic+json": {
              "type": "string"
            }
          },
          "metadata": {},
          "execution_count": 12
        }
      ],
      "source": [
        "# Regression performance\n",
        "#\n",
        "'''\n",
        "MAE, RMSE, MAPE, SMAPE, R2 = RegressionEvaluation( Prices )\n",
        "#\n",
        "print('MAE   = %.3f' % MAE)\n",
        "print('RMSE  = %.3f' % RMSE)\n",
        "print('MAPE  = %.3f' % MAPE)\n",
        "print('SMAPE = %.3f' % SMAPE)\n",
        "print('R2    = %.3f' % R2)\n",
        "print('\\n')\n",
        "'''\n",
        "\n",
        "\n",
        "'''\n",
        "# Classification performance\n",
        "#\n",
        "CM, Accuracy, AUC, F1, GM, Sen, Spe, PPV, NPV = ClassificationEvaluation( Prices )\n",
        "#\n",
        "print('Accuracy  = %.2f%%' % (100*Accuracy))\n",
        "print('AUC       = %.3f' % AUC)\n",
        "print('F1        = %.3f' % F1)\n",
        "print('GM        = %.3f' % GM)\n",
        "print('Sen       = %.3f' % Sen)\n",
        "print('Spe       = %.3f' % Spe)\n",
        "print('Spe x Sen = %.3f' % (Sen*Spe))\n",
        "print('\\n')\n",
        "\n",
        "\n",
        "# Confusion matrix\n",
        "#\n",
        "ConfusionMatrixVisualize(CM)\n",
        "'''"
      ]
    }
  ],
  "metadata": {
    "accelerator": "GPU",
    "colab": {
      "name": "main_kaggle.ipynb",
      "provenance": []
    },
    "kernelspec": {
      "display_name": "Python 3",
      "language": "python",
      "name": "python3"
    },
    "language_info": {
      "codemirror_mode": {
        "name": "ipython",
        "version": 3
      },
      "file_extension": ".py",
      "mimetype": "text/x-python",
      "name": "python",
      "nbconvert_exporter": "python",
      "pygments_lexer": "ipython3",
      "version": "3.7.12"
    }
  },
  "nbformat": 4,
  "nbformat_minor": 0
}